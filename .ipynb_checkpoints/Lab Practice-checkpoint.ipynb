{
 "cells": [
  {
   "cell_type": "code",
   "execution_count": 3,
   "metadata": {},
   "outputs": [],
   "source": [
    "def f3_sum(num1,num2):\n",
    "    print(f\"The sum of {num1} and {num2} is {num1 + num2}\")"
   ]
  },
  {
   "cell_type": "code",
   "execution_count": 4,
   "metadata": {},
   "outputs": [
    {
     "name": "stdout",
     "output_type": "stream",
     "text": [
      "The sum of 2 and 4 is 6\n"
     ]
    }
   ],
   "source": [
    "f3_sum(2,4)"
   ]
  },
  {
   "cell_type": "code",
   "execution_count": 5,
   "metadata": {},
   "outputs": [],
   "source": [
    "def f4_average(num1,num2):\n",
    "    return(f\"The average is{(num1+num2)/2}\")"
   ]
  },
  {
   "cell_type": "code",
   "execution_count": 6,
   "metadata": {},
   "outputs": [
    {
     "data": {
      "text/plain": [
       "'The average is7.5'"
      ]
     },
     "execution_count": 6,
     "metadata": {},
     "output_type": "execute_result"
    }
   ],
   "source": [
    "f4_average(5,10)"
   ]
  },
  {
   "cell_type": "code",
   "execution_count": 7,
   "metadata": {},
   "outputs": [],
   "source": [
    "    def f5_minmax(num1,num2):\n",
    "        if(num1 > num2):\n",
    "            return{\"min\":num2, \"max\":num1}\n",
    "        else:\n",
    "            return{\"min\":num1, \"max\":num2}"
   ]
  },
  {
   "cell_type": "code",
   "execution_count": 10,
   "metadata": {},
   "outputs": [
    {
     "name": "stdout",
     "output_type": "stream",
     "text": [
      "{'min': 10, 'max': 20}\n"
     ]
    }
   ],
   "source": [
    "print(f5_minmax(20,10))"
   ]
  },
  {
   "cell_type": "code",
   "execution_count": 11,
   "metadata": {},
   "outputs": [],
   "source": [
    "    def f8_combine_hundreds(hun=3,ten=2,one=1):\n",
    "        return(f\"{hun}{ten}{one}\")"
   ]
  },
  {
   "cell_type": "code",
   "execution_count": 13,
   "metadata": {},
   "outputs": [
    {
     "data": {
      "text/plain": [
       "'489'"
      ]
     },
     "execution_count": 13,
     "metadata": {},
     "output_type": "execute_result"
    }
   ],
   "source": [
    "f8_combine_hundreds(4,8,9)"
   ]
  },
  {
   "cell_type": "code",
   "execution_count": 38,
   "metadata": {},
   "outputs": [],
   "source": [
    "    def f9_place():\n",
    "        def city():\n",
    "            print(\"Austin\", end=\", \")\n",
    "        def state():\n",
    "            print(\"TX\")\n",
    "        \n",
    "        city()\n",
    "        state()"
   ]
  },
  {
   "cell_type": "code",
   "execution_count": 39,
   "metadata": {},
   "outputs": [
    {
     "name": "stdout",
     "output_type": "stream",
     "text": [
      "Austin, TX\n"
     ]
    }
   ],
   "source": [
    "f9_place()"
   ]
  },
  {
   "cell_type": "code",
   "execution_count": 69,
   "metadata": {},
   "outputs": [],
   "source": [
    "def f10_face():\n",
    "    def eye():\n",
    "        print(\"(o)\", end=\"\")\n",
    "    def nose():\n",
    "        print(\"<=>\")\n",
    "    def mouth():\n",
    "        print(\"\\\\\\\\-----//\")\n",
    "    eye()\n",
    "    print(\"       \", end=\"\")\n",
    "    eye()\n",
    "    print(\"\\n\\n     \", end=\"\")\n",
    "    nose()\n",
    "    print(\"\\n  \", end=\"\")\n",
    "    mouth()"
   ]
  },
  {
   "cell_type": "code",
   "execution_count": 70,
   "metadata": {},
   "outputs": [
    {
     "name": "stdout",
     "output_type": "stream",
     "text": [
      "(o)       (o)\n",
      "\n",
      "     <=>\n",
      "\n",
      "  \\\\-----//\n"
     ]
    }
   ],
   "source": [
    "f10_face()"
   ]
  },
  {
   "cell_type": "code",
   "execution_count": 122,
   "metadata": {},
   "outputs": [],
   "source": [
    "def display_total_due(bill_with_tax, tip_rate, tax_rate):\n",
    "    bill_without_tax = bill_with_tax / (1 + tax_rate)\n",
    "    tip = bill_without_tax * tip_rate\n",
    "    total_due = bill_with_tax + tip\n",
    "    print(\"Total due with {0:.0%} tip: ${1: .2f}\".format(tip_rate,total_due))\n"
   ]
  },
  {
   "cell_type": "code",
   "execution_count": 119,
   "metadata": {},
   "outputs": [],
   "source": [
    "TAX_RATE = 0.0825"
   ]
  },
  {
   "cell_type": "code",
   "execution_count": 120,
   "metadata": {},
   "outputs": [
    {
     "name": "stdout",
     "output_type": "stream",
     "text": [
      "Total due with 15% tip: $ 12.32\n"
     ]
    }
   ],
   "source": [
    "display_total_due(10.82,0.15,TAX_RATE)"
   ]
  },
  {
   "cell_type": "code",
   "execution_count": 127,
   "metadata": {},
   "outputs": [],
   "source": [
    "def tip_table():\n",
    "    TAX_RATE = .0825\n",
    "    bill_with_tax = float(input(\"Enter your total bill with tax: $\"))\n",
    "    display_total_due(bill_with_tax, 0.10, TAX_RATE)\n",
    "    display_total_due(bill_with_tax, 0.15, TAX_RATE)\n",
    "    display_total_due(bill_with_tax, 0.20, TAX_RATE)\n",
    "    display_total_due(bill_with_tax, 0.25, TAX_RATE)\n"
   ]
  },
  {
   "cell_type": "code",
   "execution_count": 128,
   "metadata": {},
   "outputs": [
    {
     "name": "stdout",
     "output_type": "stream",
     "text": [
      "Enter your total bill with tax: $10.82\n",
      "Total due with 10% tip: $ 11.82\n",
      "Total due with 15% tip: $ 12.32\n",
      "Total due with 20% tip: $ 12.82\n",
      "Total due with 25% tip: $ 13.32\n"
     ]
    }
   ],
   "source": [
    "tip_table()"
   ]
  },
  {
   "cell_type": "code",
   "execution_count": 1,
   "metadata": {},
   "outputs": [],
   "source": [
    "def is_a_number(num):  \n",
    "    \"\"\"This is a simple boolean function to check if a variable is a number.\"\"\"\n",
    "\n",
    "    try:\n",
    "        float(num)\n",
    "        isNumber = True\n",
    "    except:\n",
    "        isNumber = False\n",
    "\n",
    "    return isNumber\n"
   ]
  },
  {
   "cell_type": "code",
   "execution_count": 2,
   "metadata": {},
   "outputs": [
    {
     "name": "stdout",
     "output_type": "stream",
     "text": [
      "Help on function is_a_number in module __main__:\n",
      "\n",
      "is_a_number(num)\n",
      "    This is a simple boolean function to check if a variable is a number.\n",
      "\n"
     ]
    }
   ],
   "source": [
    "help(is_a_number)\n"
   ]
  },
  {
   "cell_type": "code",
   "execution_count": null,
   "metadata": {},
   "outputs": [],
   "source": []
  }
 ],
 "metadata": {
  "kernelspec": {
   "display_name": "Python 3",
   "language": "python",
   "name": "python3"
  },
  "language_info": {
   "codemirror_mode": {
    "name": "ipython",
    "version": 3
   },
   "file_extension": ".py",
   "mimetype": "text/x-python",
   "name": "python",
   "nbconvert_exporter": "python",
   "pygments_lexer": "ipython3",
   "version": "3.7.1"
  }
 },
 "nbformat": 4,
 "nbformat_minor": 2
}
