{
 "cells": [
  {
   "cell_type": "code",
   "execution_count": 32,
   "metadata": {},
   "outputs": [],
   "source": [
    "class Clock():\n",
    "\n",
    "    def __init__(self, hour=0, minute=0, second=0):\n",
    "        if type(hour) == int and type(minute) == int and type(second) == int:\n",
    "            if 0 <= hour <= 23 and 0 <= minute <= 59 and 0 <= second <= 59:\n",
    "                self.__hour = hour\n",
    "                self.__minute = minute\n",
    "                self.__second = second\n",
    "        else:\n",
    "            print('\\n===   Invalid Data, time is set to 0:00:00   ===')\n",
    "            self.__hour = 0\n",
    "            self.__minute = 0\n",
    "            self.__second = 0\n",
    "\n",
    "    def set_hour(self, hour):\n",
    "        if 0 <= hour <= 23:\n",
    "            self.__hour = hour\n",
    "        else:\n",
    "            print('\\n====    Invalid Hour    ====')\n",
    "    \n",
    "    def set_minute(self, minute):\n",
    "        if 0 <= minute <= 59:\n",
    "            self.__minute = minute\n",
    "        else:\n",
    "            print('\\n====    Invalid Minute    ====')\n",
    "\n",
    "    \n",
    "    def set_second(self, second):\n",
    "        if 0 <= second <= 59:\n",
    "            self.__second = second\n",
    "        else:\n",
    "            print('\\n====    Invalid Second    ====')\n",
    "\n",
    "    def get_hour(self):\n",
    "        return self.__hour\n",
    "    \n",
    "    def get_minute(self):\n",
    "        return self.__minute\n",
    "\n",
    "    def get_second(self):\n",
    "        return self.__second\n",
    "    \n",
    "    def __str__(self):\n",
    "        am_pm = ''\n",
    "        hour = None\n",
    "\n",
    "        if self.__hour < 12:\n",
    "            am_pm = 'AM'\n",
    "            hour = self.__hour\n",
    "        else:\n",
    "            am_pm = 'PM'\n",
    "            hour = self.__hour - 12\n",
    "\n",
    "        return f'{hour}:{self.__minute:0>2}:{self.__second:0>2} {am_pm}'"
   ]
  },
  {
   "cell_type": "code",
   "execution_count": 3,
   "metadata": {},
   "outputs": [],
   "source": [
    "my_watch = Clock(10,10,10)"
   ]
  },
  {
   "cell_type": "code",
   "execution_count": 4,
   "metadata": {},
   "outputs": [
    {
     "data": {
      "text/plain": [
       "<__main__.Clock at 0x156134f5cf8>"
      ]
     },
     "execution_count": 4,
     "metadata": {},
     "output_type": "execute_result"
    }
   ],
   "source": [
    "my_watch"
   ]
  },
  {
   "cell_type": "code",
   "execution_count": 5,
   "metadata": {},
   "outputs": [
    {
     "name": "stdout",
     "output_type": "stream",
     "text": [
      "10:10:10 AM\n"
     ]
    }
   ],
   "source": [
    "print(my_watch)"
   ]
  },
  {
   "cell_type": "code",
   "execution_count": 14,
   "metadata": {},
   "outputs": [],
   "source": [
    "grandfather = Clock(18, 2, 30)"
   ]
  },
  {
   "cell_type": "code",
   "execution_count": 15,
   "metadata": {},
   "outputs": [
    {
     "name": "stdout",
     "output_type": "stream",
     "text": [
      "6:02:30 PM\n"
     ]
    }
   ],
   "source": [
    "print(grandfather)"
   ]
  },
  {
   "cell_type": "code",
   "execution_count": 25,
   "metadata": {},
   "outputs": [
    {
     "name": "stdout",
     "output_type": "stream",
     "text": [
      "\n",
      "===   Invalid Data, time is set to 0:00:00   ===\n"
     ]
    }
   ],
   "source": [
    "oops = Clock(2.2,2,3)"
   ]
  },
  {
   "cell_type": "code",
   "execution_count": 26,
   "metadata": {},
   "outputs": [
    {
     "name": "stdout",
     "output_type": "stream",
     "text": [
      "0:00:00 AM\n"
     ]
    }
   ],
   "source": [
    "print(oops)"
   ]
  },
  {
   "cell_type": "code",
   "execution_count": 27,
   "metadata": {},
   "outputs": [],
   "source": [
    "oops.set_hour(15)"
   ]
  },
  {
   "cell_type": "code",
   "execution_count": 28,
   "metadata": {},
   "outputs": [
    {
     "name": "stdout",
     "output_type": "stream",
     "text": [
      "3:00:00 PM\n"
     ]
    }
   ],
   "source": [
    "print(oops)"
   ]
  },
  {
   "cell_type": "code",
   "execution_count": 29,
   "metadata": {},
   "outputs": [
    {
     "name": "stdout",
     "output_type": "stream",
     "text": [
      "\n",
      "====    Invalid Minute    ====\n"
     ]
    }
   ],
   "source": [
    "oops.set_minute(61)"
   ]
  },
  {
   "cell_type": "code",
   "execution_count": 30,
   "metadata": {},
   "outputs": [
    {
     "name": "stdout",
     "output_type": "stream",
     "text": [
      "3:00:00 PM\n"
     ]
    }
   ],
   "source": [
    "print(oops)"
   ]
  },
  {
   "cell_type": "code",
   "execution_count": 33,
   "metadata": {},
   "outputs": [
    {
     "name": "stdout",
     "output_type": "stream",
     "text": [
      "\n",
      "===   Invalid Data, time is set to 0:00:00   ===\n"
     ]
    }
   ],
   "source": [
    "what = Clock('a', 2,3)"
   ]
  },
  {
   "cell_type": "code",
   "execution_count": null,
   "metadata": {},
   "outputs": [],
   "source": []
  }
 ],
 "metadata": {
  "kernelspec": {
   "display_name": "Python 3",
   "language": "python",
   "name": "python3"
  },
  "language_info": {
   "codemirror_mode": {
    "name": "ipython",
    "version": 3
   },
   "file_extension": ".py",
   "mimetype": "text/x-python",
   "name": "python",
   "nbconvert_exporter": "python",
   "pygments_lexer": "ipython3",
   "version": "3.7.1"
  }
 },
 "nbformat": 4,
 "nbformat_minor": 2
}
